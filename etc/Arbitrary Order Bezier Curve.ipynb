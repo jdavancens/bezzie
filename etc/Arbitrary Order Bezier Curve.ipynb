{
 "cells": [
  {
   "cell_type": "code",
   "execution_count": 188,
   "metadata": {
    "collapsed": false
   },
   "outputs": [],
   "source": [
    "import matplotlib.pyplot as plt\n",
    "% matplotlib inline"
   ]
  },
  {
   "cell_type": "code",
   "execution_count": 230,
   "metadata": {
    "collapsed": true
   },
   "outputs": [],
   "source": [
    "def bezier(control_points, t):\n",
    "    if len(control_points) > 1:\n",
    "        new_points = []\n",
    "        for i in range(len(control_points)-1):\n",
    "            x0 = control_points[i][0]\n",
    "            x1 = control_points[i+1][0]\n",
    "            y0 = control_points[i][1]\n",
    "            y1 = control_points[i+1][1]\n",
    "            xt = x0 + t * (x1 - x0)\n",
    "            yt = y0 + t * (y1 - y0)\n",
    "            new_points.append([xt, yt])\n",
    "        return bezier(new_points, t)\n",
    "\n",
    "    else:\n",
    "        return control_points"
   ]
  },
  {
   "cell_type": "code",
   "execution_count": 231,
   "metadata": {
    "collapsed": false
   },
   "outputs": [],
   "source": [
    "control_points = [\n",
    "    [0, 0],\n",
    "    [150, 300],\n",
    "    [300, 0]\n",
    "]"
   ]
  },
  {
   "cell_type": "code",
   "execution_count": 232,
   "metadata": {
    "collapsed": false
   },
   "outputs": [
    {
     "data": {
      "text/plain": [
       "[[73.62, 111.107304]]"
      ]
     },
     "execution_count": 232,
     "metadata": {},
     "output_type": "execute_result"
    }
   ],
   "source": [
    "bezier(control_points, 0.2454)"
   ]
  },
  {
   "cell_type": "code",
   "execution_count": 233,
   "metadata": {
    "collapsed": false
   },
   "outputs": [
    {
     "data": {
      "text/plain": [
       "[[75.0, 112.5]]"
      ]
     },
     "execution_count": 233,
     "metadata": {},
     "output_type": "execute_result"
    }
   ],
   "source": [
    "bezier(control_points, 0.25)"
   ]
  },
  {
   "cell_type": "markdown",
   "metadata": {},
   "source": [
    "# Quadratic Bezier Curve"
   ]
  },
  {
   "cell_type": "code",
   "execution_count": 234,
   "metadata": {
    "collapsed": false,
    "scrolled": true
   },
   "outputs": [
    {
     "data": {
      "text/plain": [
       "[<matplotlib.lines.Line2D at 0x118ee0bd0>,\n",
       " <matplotlib.lines.Line2D at 0x118ee0cd0>]"
      ]
     },
     "execution_count": 234,
     "metadata": {},
     "output_type": "execute_result"
    },
    {
     "data": {
      "image/png": "[encoded data removed]",
      "text/plain": [
       "<matplotlib.figure.Figure at 0x118563b50>"
      ]
     },
     "metadata": {},
     "output_type": "display_data"
    }
   ],
   "source": [
    "control_points = [\n",
    "    [0, 0],\n",
    "    [150, 300],\n",
    "    [300, 0]\n",
    "]\n",
    "cx = [cp[0] for cp in control_points]\n",
    "cy = [cp[1] for cp in control_points]\n",
    "X = [x/300. for x in range(300 + 1)]\n",
    "Y = [bezier(control_points, x)[0][1] for x in X]\n",
    "plt.plot(cx, cy, 'go--',Y,'r-')"
   ]
  },
  {
   "cell_type": "markdown",
   "metadata": {},
   "source": [
    "# Cubic Bezier curve"
   ]
  },
  {
   "cell_type": "code",
   "execution_count": 237,
   "metadata": {
    "collapsed": false
   },
   "outputs": [
    {
     "data": {
      "text/plain": [
       "[<matplotlib.lines.Line2D at 0x117e1d350>,\n",
       " <matplotlib.lines.Line2D at 0x117e1d250>]"
      ]
     },
     "execution_count": 237,
     "metadata": {},
     "output_type": "execute_result"
    },
    {
     "data": {
      "image/png": "[encoded data removed]",
      "text/plain": [
       "<matplotlib.figure.Figure at 0x1185a2c10>"
      ]
     },
     "metadata": {},
     "output_type": "display_data"
    }
   ],
   "source": [
    "control_points = [\n",
    "    [0, 0],\n",
    "    [100, 150],\n",
    "    [200, -150],\n",
    "    [300, 0]\n",
    "]\n",
    "cx = [cp[0] for cp in control_points]\n",
    "cy = [cp[1] for cp in control_points]\n",
    "X = [x/300. for x in range(300 + 1)]\n",
    "Y = [bezier(control_points, x)[0][1] for x in X]\n",
    "plt.plot(cx, cy, 'go--',Y,'r-')"
   ]
  },
  {
   "cell_type": "markdown",
   "metadata": {},
   "source": [
    "# Quartic Bezier curve"
   ]
  },
  {
   "cell_type": "code",
   "execution_count": 242,
   "metadata": {
    "collapsed": false
   },
   "outputs": [
    {
     "data": {
      "text/plain": [
       "[<matplotlib.lines.Line2D at 0x119bc4790>,\n",
       " <matplotlib.lines.Line2D at 0x119bc4890>]"
      ]
     },
     "execution_count": 242,
     "metadata": {},
     "output_type": "execute_result"
    },
    {
     "data": {
      "image/png": "[encoded data removed]",
      "text/plain": [
       "<matplotlib.figure.Figure at 0x119784c50>"
      ]
     },
     "metadata": {},
     "output_type": "display_data"
    }
   ],
   "source": [
    "control_points = [\n",
    "    [0, 0],\n",
    "    [0, 300],\n",
    "    [100, 300],\n",
    "    [200, 0],\n",
    "    [300, 300],\n",
    "]\n",
    "cx = [cp[0] for cp in control_points]\n",
    "cy = [cp[1] for cp in control_points]\n",
    "X = [x/300. for x in range(300 + 1)]\n",
    "Y = [bezier(control_points, x)[0][1] for x in X]\n",
    "plt.plot(cx, cy, 'go--',Y,'r-')"
   ]
  }
 ],
 "metadata": {
  "kernelspec": {
   "display_name": "Python 2",
   "language": "python",
   "name": "python2"
  },
  "language_info": {
   "codemirror_mode": {
    "name": "ipython",
    "version": 2
   },
   "file_extension": ".py",
   "mimetype": "text/x-python",
   "name": "python",
   "nbconvert_exporter": "python",
   "pygments_lexer": "ipython2",
   "version": "2.7.11"
  }
 },
 "nbformat": 4,
 "nbformat_minor": 0
}
